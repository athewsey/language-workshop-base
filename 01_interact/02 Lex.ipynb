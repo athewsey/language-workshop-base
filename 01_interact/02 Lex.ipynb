{
 "cells": [
  {
   "cell_type": "markdown",
   "metadata": {},
   "source": [
    "# Getting started with Lex (V2)\n",
    "\n",
    "[Amazon Lex](https://aws.amazon.com/lex/) is a conversational AI service for building chatbots, with advanced, pre-integrated speech recognition and speech synthesis capabilities: No need to orchestrate manually ASR, chat, and TTS components.\n",
    "\n",
    "In January 2021, AWS launched new [Lex V2 console and APIs](https://aws.amazon.com/about-aws/whats-new/2021/01/launching-amazon-lex-v2-console-apis-improved-bot-building-experience/) for an improved bot building experience: So we'll explore using those here."
   ]
  },
  {
   "cell_type": "markdown",
   "metadata": {},
   "source": [
    "## Navigating to Lex V2\n",
    "\n",
    "▶️ Open the Lex console by searching for \"Lex\" in the AWS console search bar, or navigating to [https://console.aws.amazon.com/lex/home](https://console.aws.amazon.com/lex/home)\n",
    "\n",
    "▶️ From here, **switch to the new console** using the links in the sidebar or information message... Or if you can't find them, just [click here](https://console.aws.amazon.com/lexv2/home?#bots)\n",
    "\n",
    "![](images/02-lex-v1-console.png \"Screenshot of Lex V1 console showing V2 links\")\n",
    "\n",
    "You should now see a screen like the below:\n",
    "\n",
    "![](images/03-lex-v2-console.png \"Screenshot of Lex V2 console\")\n",
    "\n",
    "> **Note:** V1 and V2 have separate bot lists and APIs, so it's important to check you're working in the right environment!"
   ]
  },
  {
   "cell_type": "markdown",
   "metadata": {},
   "source": [
    "## Creating your first template bot\n",
    "\n",
    "We'll start from an example template to get set up faster:\n",
    "\n",
    "▶️ **Click** *Create bot* and select to *Start with an example*:\n",
    "\n",
    "- Choose the `BookTrip` example bot\n",
    "- You can enter `BookTrip` as the bot name, and any short description\n",
    "- Under *IAM Permissions*, check if there's an `Existing role` available. If so, use it. Otherwise, select to `Create a new role`\n",
    "- This bot will not be subject to COPPA, so select `No` in this section\n",
    "- Other settings can be left as default\n",
    "\n",
    "![](images/04-lex-bot-template.png \"Screenshot of create bot screen with BookTrip template selected\")\n",
    "\n",
    "![](images/05-lex-bot-create-settings.png \"Screenshot of bot creation settings\")\n",
    "\n",
    "▶️ Once the settings are configured, go ahead and click **Next**.\n",
    "\n",
    "▶️ In the next **languages** step:\n",
    "\n",
    "- Change the language to `English (GB)`\n",
    "- Select `Amy` as the voice of the bot - just as we used before through Amazon Polly\n",
    "- Optionally enter a short description, and leave other settings as default.\n",
    "\n",
    "![](images/06-lex-bot-add-language.png \"Screenshot adding en-GB language to the bot with 'Amy' voice\")\n",
    "\n",
    "When you're ready, go ahead and click **Done** to complete."
   ]
  },
  {
   "cell_type": "markdown",
   "metadata": {},
   "source": [
    "## Building and testing the bot\n",
    "\n",
    "Creating the bot automatically creates a `Draft version` for version control, and a `TestBotAlias` pointing to that draft version, for testing.\n",
    "\n",
    "▶️ First, **Click** the *Build* button to build your bot from the initial template.\n",
    "\n",
    "![](images/07-lex-new-bot.png \"Screenshot of new bot page showing build button\")\n",
    "\n",
    "▶️ You can also start **testing** your bot straight away, but it will only recognise exact matches of the training text until the build is complete\n",
    "\n",
    "![](images/08-lex-bot-building.png \"Screenshot of testing panel open on building bot\")"
   ]
  },
  {
   "cell_type": "markdown",
   "metadata": {},
   "source": [
    "You can try a test conversation something like this:\n",
    "\n",
    "> I want to book a hotel\n",
    "\n",
    "> Singapore please\n",
    "\n",
    "> I guess it'll be seven nights\n",
    "\n",
    "> deluxe!\n",
    "\n",
    "> yes please\n",
    "\n",
    "...And once the build is complete, you should be able to successfully complete the booking.\n",
    "\n",
    "Note that through this console you can try both the text chat functionality (typing in the box and submitting messages by pressing `Enter`), and the voice functionality (you may be prompted for permissions by your browser, when you click the microphone!)"
   ]
  },
  {
   "cell_type": "markdown",
   "metadata": {},
   "source": [
    "## Integrating with applications\n",
    "\n",
    "There are two broad categories of chatbot / \"virtual assistant\" deployment integration:\n",
    "\n",
    "1. Bots **with** a direct path for human escalation (e.g. triage, deflection and \"IVR\" bots for use cases connected to a contact centre channel)\n",
    "2. Bots **without** human \"backup\"\n",
    "\n",
    "For use cases linked with human agents, it's particularly important to manage human capacity effectively and track the end-to-end lineage of conversations - perhaps through multiple hand-offs. As such, the contact centre platform will have significant impact on the solution architecture: You may be interested to explore [Amazon Connect](https://aws.amazon.com/connect/), AWS' native service for seamless omni-channel cloud contact centre operations.\n",
    "\n",
    "For bot-only use cases, integration may be more free-form - but it's particularly important to manage \"out-of-channel\" hand-off when the bot is asked questions it can't answer. With no direct escalation path, a poorly-performing bot dialogue could be very frustrating for users!"
   ]
  },
  {
   "cell_type": "markdown",
   "metadata": {},
   "source": [
    "### Deploying the Lex Web UI\n",
    "\n",
    "▶️ Go to [https://github.com/aws-samples/aws-lex-web-ui](https://github.com/aws-samples/aws-lex-web-ui), a sample repository for a direct-to-Lex web UI.\n",
    "\n",
    "![](images/09-lex-web-ui-repo.png \"Screenshot of aws-lex-web-ui repository on GitHub\")\n",
    "\n",
    "▶️ Scroll down to the *Getting started* section, and click on the **Launch stack** button ***for the AWS Region you're currently using*** (make sure to pick the correct one!)\n",
    "\n",
    "You'll be taken to a CloudFormation stack configuration screen in the AWS console, something like this:\n",
    "\n",
    "![](images/10-lex-web-ui-create-stack.png \"Screenshot of CloudFormation Lex UI setup\")"
   ]
  },
  {
   "cell_type": "markdown",
   "metadata": {},
   "source": [
    "▶️ In the stack parameters, configure:\n",
    "\n",
    "- **LexV2BotId**: The **auto-generated ID** of your bot, visible on the \"BookTrip\" tab of the Lex console sidebar - the root detail screen for your bot. This is typically a 10-character string e.g. `SSDNOMOVXM` - as in the screenshot below\n",
    "- **LexV2BotAliasId**: The **auto-generated ID** of your bot's **TestBotAlias**, visible via the \"Aliases\" section of the Lex console sidebar. This is likely equal to the string `TSTALIASID` - as in the sreenshot below\n",
    "- **WebAppConfBotInitialText**: `You can ask me to make travel reservations. Just type \"book a hotel\" or click on the mic and say it.` (or similar)\n",
    "- **WebAppConfBotInitialSpeech**: `Say \"book a hotel\" to get started` (or similar)\n",
    "- **WebAppConfToolbarTitle**: `TravelBot` (or similar)\n",
    "- Other settings can be left as default (including some blanks!)\n",
    "\n",
    "![](images/11-lex-bot-id.png \"Screenshot of Lex bot detail page, showing bot ID\")\n",
    "\n",
    "![](images/12-lex-alias-id.png \"Screenshot of Lex TestBotAlias detail page, showing alias ID\")"
   ]
  },
  {
   "cell_type": "markdown",
   "metadata": {},
   "source": [
    "▶️ Once you've checked the configuration, **acknowledge the required capabilities** and then **click Create**\n",
    "\n",
    "You'll be redirected to the [CloudFormation console stacks list](https://console.aws.amazon.com/cloudformation/home?#/stacks) showing the status of your stack.\n",
    "\n",
    "> ⏰ It will take several minutes for the stack to deploy!\n",
    "\n",
    "Once the deployment completes, you should see similar to the below:\n",
    "\n",
    "![](images/13-lex-stack-deployed.png \"CloudFormation screenshot showing deployed Lex Web UI stack\")\n",
    "\n",
    "▶️ Go to the **Outputs** tab and follow the `WebAppUrl` hyperlink to open the example web UI.\n",
    "\n",
    "\n",
    "Like in the Lex \"Test\" console, you can either type messages or click on the microphone to speak.\n",
    "\n",
    "> ⚠️ **Note:** *Unlike* the Lex console, you don't need to click a button when you're done talking! The web UI will automatically detect when you stop speaking."
   ]
  },
  {
   "cell_type": "markdown",
   "metadata": {},
   "source": [
    "## Adding SSML to Lex bots\n",
    "\n",
    "The **fallback intent** is triggered when none of the bot's intents seem like a good match for the user's request, but the fallback response in the template bot isn't particularly helpful. Let's customize it a little:\n",
    "\n",
    "▶️ **Navigate** to the *Fallback Intent* in the Lex console, and click on the closing response speech bubble as shown below to expand it:\n",
    "\n",
    "![](images/14-lex-fallback.png \"Screenshot of Lex console with fallback intent response expanded\")\n",
    "\n",
    "Hypothetically, let's say we'd like a basic text response, plus some additional information via SSML for voice channels.\n",
    "\n",
    "▶️ **Click** on the *More response options* button to open the detailed response options, and add an SSML message as shown below:\n",
    "\n",
    "![](images/15-lex-fallback-ssml.png \"Screenshot of Lex console with both text and SSML response\")"
   ]
  },
  {
   "cell_type": "markdown",
   "metadata": {},
   "source": [
    "▶️ **Click** the *\"Update options\"* button and then *\"Save Intent\"*. Then *Build* the bot and, when it's ready, you can *Test* it again.\n",
    "\n",
    "You should find that Lex responds with both messages - but you could customize a text channel integration to omit the SSML component!"
   ]
  },
  {
   "cell_type": "markdown",
   "metadata": {},
   "source": [
    "## Further possibilities\n",
    "\n",
    "The bot dialogue and example UI we've shown here are both basic, and of course you can customize the dialogue to explore the tools available.\n",
    "\n",
    "For a deeper dive on possibilities with Lex, consider:\n",
    "\n",
    "- The [\"QnABot\" blog post](https://aws.amazon.com/blogs/machine-learning/creating-a-question-and-answer-bot-with-amazon-lex-and-amazon-alexa/) and accompanying [solution code](https://github.com/aws-samples/aws-ai-qna-bot), demonstrating a wide range of features and best practices\n",
    "- The [\"Building better bots\"](https://aws.amazon.com/blogs/machine-learning/building-better-bots/) blog series - from back in 2017, but discussing some dialogue and user-experience design practices which are still useful to remember!\n"
   ]
  }
 ],
 "metadata": {
  "instance_type": "ml.t3.medium",
  "kernelspec": {
   "display_name": "Python 3 (Data Science)",
   "language": "python",
   "name": "python3__SAGEMAKER_INTERNAL__arn:aws:sagemaker:ap-southeast-1:492261229750:image/datascience-1.0"
  },
  "language_info": {
   "codemirror_mode": {
    "name": "ipython",
    "version": 3
   },
   "file_extension": ".py",
   "mimetype": "text/x-python",
   "name": "python",
   "nbconvert_exporter": "python",
   "pygments_lexer": "ipython3",
   "version": "3.7.10"
  }
 },
 "nbformat": 4,
 "nbformat_minor": 4
}
