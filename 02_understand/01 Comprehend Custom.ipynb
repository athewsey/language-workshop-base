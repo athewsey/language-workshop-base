{
 "cells": [
  {
   "cell_type": "markdown",
   "metadata": {},
   "source": [
    "## Amazon Comprehend Custom\n",
    "\n",
    "[Amazon Comprehend](https://aws.amazon.com/comprehend/) provides pre-trained and user-trainable tools for discovering insights and relationships from text.\n",
    "\n",
    "<!--Pre-trained [features](https://aws.amazon.com/comprehend/features/) include:\n",
    "\n",
    "- Sentiment analysis: Classifying the overall sentiment of a text (as Positive, Negative, Neutral, or Mixed)\n",
    "- -->\n",
    "\n",
    "This post uses the Yahoo answers corpus cited in the paper [Text Understanding from Scratch](https://arxiv.org/abs/1502.01710) by Xiang Zhang and Yann LeCun. This dataset is available on the [AWS Open Data Registry](https://registry.opendata.aws/fast-ai-nlp/)\n"
   ]
  },
  {
   "cell_type": "code",
   "execution_count": null,
   "metadata": {},
   "outputs": [],
   "source": [
    "!aws s3 cp s3://aws-ml-blog/artifacts/comprehend-custom-classification/comprehend-test.csv ./data/comprehend/\n",
    "!aws s3 cp s3://aws-ml-blog/artifacts/comprehend-custom-classification/comprehend-train.csv ./data/comprehend/"
   ]
  },
  {
   "cell_type": "code",
   "execution_count": null,
   "metadata": {},
   "outputs": [],
   "source": [
    "# Python Built-Ins:\n",
    "import os\n",
    "\n",
    "# External Dependencies:\n",
    "import boto3\n",
    "\n",
    "# For our example, the S3 bucket has already been created & named for us:\n",
    "account_id = os.environ[\"AWS_ACCOUNT_ID\"]\n",
    "region = os.environ[\"AWS_DEFAULT_REGION\"]\n",
    "bucket_name = f\"comprehend-custom-{account_id}-{region}\"\n",
    "\n",
    "comprehend = boto3.client(\"comprehend\")\n",
    "s3 = boto3.resource(\"s3\")\n",
    "bucket = s3.Bucket(bucket_name)\n",
    "\n",
    "print(f\"Using S3 bucket: {bucket_name}\")"
   ]
  },
  {
   "cell_type": "code",
   "execution_count": null,
   "metadata": {},
   "outputs": [],
   "source": [
    "bucket.Object(f\"data/comprehend-train.csv\").upload_file(f\"data/comprehend/comprehend-train.csv\")\n",
    "bucket.Object(f\"data/comprehend-test.csv\").upload_file(f\"data/comprehend/comprehend-test.csv\")"
   ]
  },
  {
   "cell_type": "code",
   "execution_count": null,
   "metadata": {},
   "outputs": [],
   "source": [
    "# The Comprehend Execution Role has also been created already, but we need to look it up:\n",
    "ssm = boto3.client(\"ssm\")\n",
    "ssm_response = ssm.get_parameters(Names=[\"/workshop/ComprehendRoleArn\"])\n",
    "\n",
    "try:\n",
    "    comprehend_param = next(\n",
    "        param for param in ssm_response[\"Parameters\"]\n",
    "        if param[\"Name\"] == \"/workshop/ComprehendRoleArn\"\n",
    "    )\n",
    "    comprehend_role_arn = comprehend_param[\"Value\"]\n",
    "    print(comprehend_role_arn)\n",
    "except StopIteration as e:\n",
    "    print(ssm_response)\n",
    "    raise ValueError(\"Couldn't retrieve Comprehend Execution Role from SSM\") from e"
   ]
  },
  {
   "cell_type": "code",
   "execution_count": null,
   "metadata": {},
   "outputs": [],
   "source": [
    "create_cls_resp = comprehend.create_document_classifier(\n",
    "    DocumentClassifierName=\"yahoo-answers\",\n",
    "    DataAccessRoleArn=comprehend_role_arn,\n",
    "    InputDataConfig={\n",
    "        \"DataFormat\": \"COMPREHEND_CSV\", # (Or \"AUGMENTED_MANIFEST\" for SM Ground Truth)\n",
    "        \"S3Uri\": f\"s3://{bucket_name}/data/comprehend-train.csv\",\n",
    "    },\n",
    "    OutputDataConfig={\n",
    "        'S3Uri': f\"s3://{bucket_name}/training-output\",\n",
    "    },\n",
    "    LanguageCode=\"en\", # See also 'es'|'fr'|'de'|'it'|'pt'|'ar'|'hi'|'ja'|'ko'|'zh'|'zh-TW'\n",
    ")\n",
    "\n",
    "print(create_cls_resp)\n",
    "cls_arn = create_cls_resp[\"DocumentClassifierArn\"]"
   ]
  },
  {
   "cell_type": "raw",
   "metadata": {},
   "source": [
    "aws comprehend create-document-classifier\n",
    "--document-classifier-name \"yahoo-answers\" --data-access-role-arn arn:aws:iam::123456789012:role/ComprehendBucketAccessRole --input-data-config S3Uri=s3://123456789012-comprehend/comprehend-train.csv --output-data-config S3Uri=s3://123456789012-comprehend/TrainingOutput/ --language-code en\n",
    "                            "
   ]
  },
  {
   "cell_type": "raw",
   "metadata": {},
   "source": [
    "aws comprehend start-document-classification-job --document-classifier-arn arn:aws:comprehend:us-east-1:123456789012:document-classifier/yahoo-answers --input-data-config S3Uri=s3://123456789012-comprehend/comprehend-test.csv,InputFormat=ONE_DOC_PER_LINE --output-data-config S3Uri=s3://123456789012-comprehend/InferenceOutput/ --data-access-role-arn arn:aws:iam::123456789012:role/ComprehendBucketAccessRole"
   ]
  },
  {
   "cell_type": "code",
   "execution_count": null,
   "metadata": {},
   "outputs": [],
   "source": [
    "create_job_resp = comprehend.start_document_classification_job(\n",
    "    #JobName='string',\n",
    "    DocumentClassifierArn=cls_arn,\n",
    "    InputDataConfig={\n",
    "        \"S3Uri\": f\"s3://{bucket_name}/data/comprehend-test.csv\",\n",
    "        \"InputFormat\": \"ONE_DOC_PER_LINE\",\n",
    "    },\n",
    "    OutputDataConfig={\n",
    "        \"S3Uri\": f\"s3://{bucket_name}/results\",\n",
    "        'KmsKeyId': 'string'\n",
    "    },\n",
    "    DataAccessRoleArn=comprehend_role_arn,\n",
    ")\n",
    "\n",
    "print(create_job_resp)\n",
    "job_id = create_job_resp[\"JobId\"]\n",
    "# Also JobStatus: 'SUBMITTED'|'IN_PROGRESS'|'COMPLETED'|'FAILED'|'STOP_REQUESTED'|'STOPPED'"
   ]
  },
  {
   "cell_type": "raw",
   "metadata": {},
   "source": [
    "aws comprehend describe-document-classification-job --job-id $job_id"
   ]
  },
  {
   "cell_type": "code",
   "execution_count": null,
   "metadata": {},
   "outputs": [],
   "source": [
    "!aws s3 cp s3://$bucket_name/results/$job_id/output/output.tar.gz ./data/comprehend/results/output.tar.gz"
   ]
  },
  {
   "cell_type": "code",
   "execution_count": null,
   "metadata": {},
   "outputs": [],
   "source": [
    "!cd data/comprehend/results && tar xvzf output.tar.gz"
   ]
  },
  {
   "cell_type": "code",
   "execution_count": null,
   "metadata": {},
   "outputs": [],
   "source": [
    "{\"File\": \"comprehend-test.csv\", \"Line\": \"9\", \"Classes\": [{\"Name\": \"ENTERTAINMENT_AND_MUSIC\", \"Score\": 0.9685}, {\"Name\": \"EDUCATION_AND_REFERENCE\", \"Score\": 0.0159}, {\"Name\": \"BUSINESS_AND_FINANCE\", \"Score\": 0.0102}]}"
   ]
  }
 ],
 "metadata": {
  "instance_type": "ml.t3.medium",
  "kernelspec": {
   "display_name": "Python 3 (Data Science)",
   "language": "python",
   "name": "python3__SAGEMAKER_INTERNAL__arn:aws:sagemaker:ap-southeast-1:492261229750:image/datascience-1.0"
  },
  "language_info": {
   "codemirror_mode": {
    "name": "ipython",
    "version": 3
   },
   "file_extension": ".py",
   "mimetype": "text/x-python",
   "name": "python",
   "nbconvert_exporter": "python",
   "pygments_lexer": "ipython3",
   "version": "3.7.10"
  }
 },
 "nbformat": 4,
 "nbformat_minor": 4
}
