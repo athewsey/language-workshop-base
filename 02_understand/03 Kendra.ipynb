{
 "cells": [
  {
   "cell_type": "markdown",
   "metadata": {},
   "source": [
    "# Amazon Kendra: Intelligent Search with ML\n",
    "\n",
    "[Amazon Kendra](https://aws.amazon.com/kendra/) uses modern machine learning techniques to re-imagine enterprise search for websites and content: With semantic understanding beyond traditional search engine tools.\n",
    "\n",
    "Kendra is quick to get started with, requiring minimal configuration for initial deployment.\n",
    "\n",
    "Not much point saying more here, as the [Kendra Essentials+ Workshop](https://kendra-essentials.workshop.aws/en/) is already an excellent place to start!"
   ]
  }
 ],
 "metadata": {
  "instance_type": "ml.t3.medium",
  "kernelspec": {
   "display_name": "Python 3 (Data Science)",
   "language": "python",
   "name": "python3__SAGEMAKER_INTERNAL__arn:aws:sagemaker:ap-southeast-1:492261229750:image/datascience-1.0"
  },
  "language_info": {
   "codemirror_mode": {
    "name": "ipython",
    "version": 3
   },
   "file_extension": ".py",
   "mimetype": "text/x-python",
   "name": "python",
   "nbconvert_exporter": "python",
   "pygments_lexer": "ipython3",
   "version": "3.7.10"
  }
 },
 "nbformat": 4,
 "nbformat_minor": 4
}
